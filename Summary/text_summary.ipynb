{
  "nbformat": 4,
  "nbformat_minor": 0,
  "metadata": {
    "colab": {
      "name": "text_summary.ipynb",
      "provenance": []
    },
    "kernelspec": {
      "name": "python3",
      "display_name": "Python 3"
    },
    "language_info": {
      "name": "python"
    }
  },
  "cells": [
    {
      "cell_type": "code",
      "metadata": {
        "colab": {
          "base_uri": "https://localhost:8080/"
        },
        "id": "N1JfM7YMm0z9",
        "outputId": "c2eb88e2-0345-449b-d94f-3da0b786d829"
      },
      "source": [
        "pip install newspaper3k"
      ],
      "execution_count": 1,
      "outputs": [
        {
          "output_type": "stream",
          "text": [
            "Requirement already satisfied: newspaper3k in /usr/local/lib/python3.7/dist-packages (0.2.8)\n",
            "Requirement already satisfied: nltk>=3.2.1 in /usr/local/lib/python3.7/dist-packages (from newspaper3k) (3.2.5)\n",
            "Requirement already satisfied: feedfinder2>=0.0.4 in /usr/local/lib/python3.7/dist-packages (from newspaper3k) (0.0.4)\n",
            "Requirement already satisfied: beautifulsoup4>=4.4.1 in /usr/local/lib/python3.7/dist-packages (from newspaper3k) (4.6.0)\n",
            "Requirement already satisfied: Pillow>=3.3.0 in /usr/local/lib/python3.7/dist-packages (from newspaper3k) (7.0.0)\n",
            "Requirement already satisfied: tinysegmenter==0.3 in /usr/local/lib/python3.7/dist-packages (from newspaper3k) (0.3)\n",
            "Requirement already satisfied: python-dateutil>=2.5.3 in /usr/local/lib/python3.7/dist-packages (from newspaper3k) (2.8.1)\n",
            "Requirement already satisfied: lxml>=3.6.0 in /usr/local/lib/python3.7/dist-packages (from newspaper3k) (4.2.6)\n",
            "Requirement already satisfied: PyYAML>=3.11 in /usr/local/lib/python3.7/dist-packages (from newspaper3k) (3.13)\n",
            "Requirement already satisfied: feedparser>=5.2.1 in /usr/local/lib/python3.7/dist-packages (from newspaper3k) (6.0.2)\n",
            "Requirement already satisfied: tldextract>=2.0.1 in /usr/local/lib/python3.7/dist-packages (from newspaper3k) (3.1.0)\n",
            "Requirement already satisfied: requests>=2.10.0 in /usr/local/lib/python3.7/dist-packages (from newspaper3k) (2.23.0)\n",
            "Requirement already satisfied: jieba3k>=0.35.1 in /usr/local/lib/python3.7/dist-packages (from newspaper3k) (0.35.1)\n",
            "Requirement already satisfied: cssselect>=0.9.2 in /usr/local/lib/python3.7/dist-packages (from newspaper3k) (1.1.0)\n",
            "Requirement already satisfied: six in /usr/local/lib/python3.7/dist-packages (from nltk>=3.2.1->newspaper3k) (1.15.0)\n",
            "Requirement already satisfied: sgmllib3k in /usr/local/lib/python3.7/dist-packages (from feedparser>=5.2.1->newspaper3k) (1.0.0)\n",
            "Requirement already satisfied: idna in /usr/local/lib/python3.7/dist-packages (from tldextract>=2.0.1->newspaper3k) (2.10)\n",
            "Requirement already satisfied: filelock>=3.0.8 in /usr/local/lib/python3.7/dist-packages (from tldextract>=2.0.1->newspaper3k) (3.0.12)\n",
            "Requirement already satisfied: requests-file>=1.4 in /usr/local/lib/python3.7/dist-packages (from tldextract>=2.0.1->newspaper3k) (1.5.1)\n",
            "Requirement already satisfied: urllib3!=1.25.0,!=1.25.1,<1.26,>=1.21.1 in /usr/local/lib/python3.7/dist-packages (from requests>=2.10.0->newspaper3k) (1.24.3)\n",
            "Requirement already satisfied: certifi>=2017.4.17 in /usr/local/lib/python3.7/dist-packages (from requests>=2.10.0->newspaper3k) (2020.12.5)\n",
            "Requirement already satisfied: chardet<4,>=3.0.2 in /usr/local/lib/python3.7/dist-packages (from requests>=2.10.0->newspaper3k) (3.0.4)\n"
          ],
          "name": "stdout"
        }
      ]
    },
    {
      "cell_type": "code",
      "metadata": {
        "colab": {
          "base_uri": "https://localhost:8080/"
        },
        "id": "71bCWiWMnEGo",
        "outputId": "411fb54f-36c9-436e-aca8-989ce103b52b"
      },
      "source": [
        "pip install jpype1"
      ],
      "execution_count": 2,
      "outputs": [
        {
          "output_type": "stream",
          "text": [
            "Requirement already satisfied: jpype1 in /usr/local/lib/python3.7/dist-packages (1.2.1)\n",
            "Requirement already satisfied: typing-extensions; python_version < \"3.8\" in /usr/local/lib/python3.7/dist-packages (from jpype1) (3.7.4.3)\n"
          ],
          "name": "stdout"
        }
      ]
    },
    {
      "cell_type": "code",
      "metadata": {
        "colab": {
          "base_uri": "https://localhost:8080/"
        },
        "id": "1WWqrbbznMxt",
        "outputId": "f2106961-70ed-4f5f-eded-aeac5d29b3cb"
      },
      "source": [
        "pip install konlpy"
      ],
      "execution_count": 3,
      "outputs": [
        {
          "output_type": "stream",
          "text": [
            "Requirement already satisfied: konlpy in /usr/local/lib/python3.7/dist-packages (0.5.2)\n",
            "Requirement already satisfied: colorama in /usr/local/lib/python3.7/dist-packages (from konlpy) (0.4.4)\n",
            "Requirement already satisfied: lxml>=4.1.0 in /usr/local/lib/python3.7/dist-packages (from konlpy) (4.2.6)\n",
            "Requirement already satisfied: tweepy>=3.7.0 in /usr/local/lib/python3.7/dist-packages (from konlpy) (3.10.0)\n",
            "Requirement already satisfied: JPype1>=0.7.0 in /usr/local/lib/python3.7/dist-packages (from konlpy) (1.2.1)\n",
            "Requirement already satisfied: beautifulsoup4==4.6.0 in /usr/local/lib/python3.7/dist-packages (from konlpy) (4.6.0)\n",
            "Requirement already satisfied: numpy>=1.6 in /usr/local/lib/python3.7/dist-packages (from konlpy) (1.19.5)\n",
            "Requirement already satisfied: requests-oauthlib>=0.7.0 in /usr/local/lib/python3.7/dist-packages (from tweepy>=3.7.0->konlpy) (1.3.0)\n",
            "Requirement already satisfied: requests[socks]>=2.11.1 in /usr/local/lib/python3.7/dist-packages (from tweepy>=3.7.0->konlpy) (2.23.0)\n",
            "Requirement already satisfied: six>=1.10.0 in /usr/local/lib/python3.7/dist-packages (from tweepy>=3.7.0->konlpy) (1.15.0)\n",
            "Requirement already satisfied: typing-extensions; python_version < \"3.8\" in /usr/local/lib/python3.7/dist-packages (from JPype1>=0.7.0->konlpy) (3.7.4.3)\n",
            "Requirement already satisfied: oauthlib>=3.0.0 in /usr/local/lib/python3.7/dist-packages (from requests-oauthlib>=0.7.0->tweepy>=3.7.0->konlpy) (3.1.0)\n",
            "Requirement already satisfied: certifi>=2017.4.17 in /usr/local/lib/python3.7/dist-packages (from requests[socks]>=2.11.1->tweepy>=3.7.0->konlpy) (2020.12.5)\n",
            "Requirement already satisfied: chardet<4,>=3.0.2 in /usr/local/lib/python3.7/dist-packages (from requests[socks]>=2.11.1->tweepy>=3.7.0->konlpy) (3.0.4)\n",
            "Requirement already satisfied: urllib3!=1.25.0,!=1.25.1,<1.26,>=1.21.1 in /usr/local/lib/python3.7/dist-packages (from requests[socks]>=2.11.1->tweepy>=3.7.0->konlpy) (1.24.3)\n",
            "Requirement already satisfied: idna<3,>=2.5 in /usr/local/lib/python3.7/dist-packages (from requests[socks]>=2.11.1->tweepy>=3.7.0->konlpy) (2.10)\n",
            "Requirement already satisfied: PySocks!=1.5.7,>=1.5.6; extra == \"socks\" in /usr/local/lib/python3.7/dist-packages (from requests[socks]>=2.11.1->tweepy>=3.7.0->konlpy) (1.7.1)\n"
          ],
          "name": "stdout"
        }
      ]
    },
    {
      "cell_type": "code",
      "metadata": {
        "colab": {
          "base_uri": "https://localhost:8080/"
        },
        "id": "ER4jb1GbnQ7E",
        "outputId": "c2cd22f7-fa03-420a-81b9-e2ff716e1505"
      },
      "source": [
        "pip install scikit-learn"
      ],
      "execution_count": 4,
      "outputs": [
        {
          "output_type": "stream",
          "text": [
            "Requirement already satisfied: scikit-learn in /usr/local/lib/python3.7/dist-packages (0.22.2.post1)\n",
            "Requirement already satisfied: scipy>=0.17.0 in /usr/local/lib/python3.7/dist-packages (from scikit-learn) (1.4.1)\n",
            "Requirement already satisfied: numpy>=1.11.0 in /usr/local/lib/python3.7/dist-packages (from scikit-learn) (1.19.5)\n",
            "Requirement already satisfied: joblib>=0.11 in /usr/local/lib/python3.7/dist-packages (from scikit-learn) (1.0.1)\n"
          ],
          "name": "stdout"
        }
      ]
    },
    {
      "cell_type": "code",
      "metadata": {
        "id": "hddMJWTnnV4S"
      },
      "source": [
        "from newspaper import Article\n",
        "from konlpy.tag import Kkma\n",
        "from konlpy.tag import Okt\n",
        "from sklearn.feature_extraction.text import TfidfVectorizer\n",
        "from sklearn.feature_extraction.text import CountVectorizer\n",
        "from sklearn.preprocessing import normalize\n",
        "import numpy as np\n",
        "import re"
      ],
      "execution_count": 5,
      "outputs": []
    },
    {
      "cell_type": "code",
      "metadata": {
        "id": "nnHYTvD6nYXH"
      },
      "source": [
        "class SentenceTokenizer(object):\n",
        "  def __init__(self):\n",
        "    self.kkma = Kkma()\n",
        "    self.okt = Okt()\n",
        "\n",
        "    text_file = open(\"/content/stop_words_file.txt\", 'r')\n",
        "\n",
        "    self.stopwords = [line.rstrip() for line in text_file]\n",
        "\n",
        "  def url2sentences(self, url):\n",
        "    article = Article(url, language='ko')\n",
        "    article.download()\n",
        "    article.parse()\n",
        "    sentences = self.kkma.sentences(article.text)\n",
        "\n",
        "    for idx in range(0, len(sentences)):\n",
        "      if len(sentences[idx]) <= 10:\n",
        "        sentences[idx-1] += (' ' + sentences[idx])\n",
        "        sentences[idx] = ''\n",
        "    return sentences\n",
        "\n",
        "  def text2sentences(self, text):\n",
        "    sentences = self.kkma.sentences(text)\n",
        "\n",
        "    for idx in range(0, len(sentences)):\n",
        "      if len(sentences[idx]) <= 10:\n",
        "        sentences[idx-1] += (' ' + sentences[idx])\n",
        "        sentences[idx] = ''\n",
        "    return sentences\n",
        "\n",
        "  def clean_text(self, text):\n",
        "    # 개행문자 제거\n",
        "    text = re.sub(\"\\n\", \" \", text)\n",
        "    text = re.sub(\"\\v\", \" \", text)\n",
        "    text = re.sub(\"\\f\", \" \", text)\n",
        "    # E-mail 제거#\n",
        "    text = re.sub(\"([\\w\\d.]+@[\\w\\d.]+)\", \"\", text)\n",
        "    text = re.sub(\"([\\w\\d.]+@)\", \"\", text)\n",
        "    # 괄호 안 제거#\n",
        "    text = re.sub(\"<[\\w\\s\\d‘’=/·~:&,`]+>\", \"\", text)\n",
        "    text = re.sub(\"\\([\\w\\s\\d‘’=/·~:&,`]+\\)\", \"\", text)\n",
        "    text = re.sub(\"\\[[\\w\\s\\d‘’=/·~:&,`]+\\]\", \"\", text)\n",
        "    text = re.sub(\"【[\\w\\s\\d‘’=/·~:&,`]+】\", \"\", text)\n",
        "    # 전화번호 제거#\n",
        "    text = re.sub(\"(\\d{2,3})-(\\d{3,4}-\\d{4})\", \"\", text)  # 전화번호\n",
        "    text = re.sub(\"(\\d{3,4}-\\d{4})\", \"\", text)  # 전화번호\n",
        "    # 홈페이지 주소 제거#\n",
        "    text = re.sub(\"(www.\\w.+)\", \"\", text)\n",
        "    text = re.sub(\"(.\\w+.com)\", \"\", text)\n",
        "    text = re.sub(\"(.\\w+.co.kr)\", \"\", text)\n",
        "    text = re.sub(\"(.\\w+.go.kr)\", \"\", text)\n",
        "    # 기자 이름 제거#\n",
        "    text = re.sub(\"/\\w+[=·\\w@]+\\w+\\s[=·\\w@]+\", \"\", text)\n",
        "    text = re.sub(\"\\w{2,4}\\s기자\", \"\", text)\n",
        "    # 한자 제거#\n",
        "    text = re.sub(\"[\\u2E80-\\u2EFF\\u3400-\\u4DBF\\u4E00-\\u9FBF\\uF900]+\", \"\", text)\n",
        "    # 특수기호 제거#\n",
        "    text = re.sub(\"[◇#/▶▲◆■●△①②③★○◎▽=▷☞◀ⓒ□?㈜♠☎]\", \"\", text)\n",
        "    # 따옴표 제거#\n",
        "    text = re.sub(\"[\\\"'”“‘’]\", \"\", text)\n",
        "    return text\n",
        "\n",
        "  def get_nouns(self, sentences):\n",
        "    words = []\n",
        "    #nouns = []\n",
        "\n",
        "    for sentence in sentences:\n",
        "      words.append(self.okt.nouns(str(sentence)))\n",
        "    for i,v in enumerate(words):\n",
        "      if len(v)<2:\n",
        "        words.pop(i)\n",
        "      if v in self.stopwords:\n",
        "        words.pop(i)\n",
        "    \n",
        "    return words"
      ],
      "execution_count": 12,
      "outputs": []
    },
    {
      "cell_type": "code",
      "metadata": {
        "id": "Q7-4mfbeoJ3i"
      },
      "source": [
        "class GraphMatrix(object):\n",
        "  def __init__(self):\n",
        "    self.tfidf = TfidfVectorizer()\n",
        "    self.cnt_vec = CountVectorizer()\n",
        "    self.graph_nouns = []\n",
        "\n",
        "  def build_sent_graph(self, nouns):\n",
        "    tfidf_mat = self.tfidf.fit_transform(nouns).toarray()\n",
        "    self.graph_nouns = np.dot(tfidf_mat, tfidf_mat.T)\n",
        "    return self.graph_nouns\n",
        "\n",
        "  def build_words_graph(self, nouns):\n",
        "    cnt_vec_mat = normalize(self.cnt_vec.fit_transform(nouns).toarray().astype(float), axis=0)\n",
        "    vocab = self.cnt_vec.vocabulary_\n",
        "    return np.dot(cnt_vec_mat.T, cnt_vec_mat), {vocab[word] : word for word in vocab}"
      ],
      "execution_count": 36,
      "outputs": []
    },
    {
      "cell_type": "code",
      "metadata": {
        "id": "vM5pFOG7oSLv"
      },
      "source": [
        "class Rank(object):\n",
        "  def get_ranks(self, graph, d=0.85): # d = damping factor\n",
        "    A = graph\n",
        "    matrix_size = A.shape[0]\n",
        "\n",
        "    for id in range(matrix_size):\n",
        "      A[id, id] = 0 # diagonal 부분을 0으로\n",
        "      link_sum = np.sum(A[:,id]) # A[:, id] = A[:][id]\n",
        "      if link_sum != 0:\n",
        "        A[:, id] /= link_sum\n",
        "      A[:, id] *= -d\n",
        "      A[id, id] = 1\n",
        "\n",
        "    B = (1-d) * np.ones((matrix_size, 1))\n",
        "    ranks = np.linalg.solve(A, B) # 연립방정식 Ax = b\n",
        "    return {idx: r[0] for idx, r in enumerate(ranks)}"
      ],
      "execution_count": 9,
      "outputs": []
    },
    {
      "cell_type": "code",
      "metadata": {
        "id": "JGmnrcvdogF1"
      },
      "source": [
        "class TextRank(object):\n",
        "  def __init__(self, text):\n",
        "    self.sent_tokenize = SentenceTokenizer()\n",
        "\n",
        "    if text[:5] in ('http:', 'https'):\n",
        "      self.sentences = self.sent_tokenize.url2sentences(text)\n",
        "    else:\n",
        "      self.sentences = self.sent_tokenize.text2sentences(text)\n",
        "    \n",
        "   # self.sentences = self.sent_tokenize.clean_text(self.sentences)\n",
        "    self.nouns = self.sent_tokenize.get_nouns(self.sentences)\n",
        "    \n",
        "    self.graph_matrix = GraphMatrix()\n",
        "    self.sent_graph = self.graph_matrix.build_sent_graph(self.nouns)    \n",
        "    self.words_graph, self.idx2word = self.graph_matrix.build_words_graph(self.nouns)\n",
        "    \n",
        "    self.rank = Rank()\n",
        "    self.sent_rank_idx = self.rank.get_ranks(self.sent_graph)\n",
        "    self.sorted_sent_rank_idx = sorted(self.sent_rank_idx, key=lambda k: self.sent_rank_idx[k], reverse=True)\n",
        "    \n",
        "    self.word_rank_idx = self.rank.get_ranks(self.words_graph)\n",
        "    self.sorted_word_rank_idx = sorted(self.word_rank_idx, key=lambda k: self.word_rank_idx[k], reverse=True)\n",
        "\n",
        "  def summarize(self, sent_num=3):\n",
        "    summary = []\n",
        "    index=[]\n",
        "\n",
        "    for idx in self.sorted_sent_rank_idx[:sent_num]:\n",
        "      index.append(idx)\n",
        "\n",
        "    index.sort()\n",
        "    for idx in index:\n",
        "      summary.append(self.sentences[idx])\n",
        "    return summary\n",
        "\n",
        "  def keywords(self, word_num=10):\n",
        "    rank = Rank()\n",
        "    rank_idx = rank.get_ranks(self.words_graph)\n",
        "    sorted_rank_idx = sorted(rank_idx, key=lambda k: rank_idx[k], reverse=True)\n",
        "\n",
        "    keywords = []\n",
        "    index=[]\n",
        "\n",
        "    for idx in sorted_rank_idx[:word_num]:\n",
        "      index.append(idx)\n",
        "    \n",
        "    #index.sort()\n",
        "    for idx in index:\n",
        "      keywords.append(self.idx2word[idx])\n",
        "    \n",
        "    return keywords"
      ],
      "execution_count": 10,
      "outputs": []
    },
    {
      "cell_type": "code",
      "metadata": {
        "colab": {
          "base_uri": "https://localhost:8080/",
          "height": 394
        },
        "id": "720_4DF5pGA8",
        "outputId": "b5a83290-8fbc-4a14-a1e4-47d54b69aad2"
      },
      "source": [
        "url = 'http://v.media.daum.net/v/20170611192209012?rcmd=r'\n",
        "textrank = TextRank(url)\n",
        "\n",
        "for row in textrank.summarize(3):\n",
        "  print(row)\n",
        "  print()\n",
        "\n",
        "print('keywords :',textrank.keywords())"
      ],
      "execution_count": 37,
      "outputs": [
        {
          "output_type": "error",
          "ename": "AttributeError",
          "evalue": "ignored",
          "traceback": [
            "\u001b[0;31m---------------------------------------------------------------------------\u001b[0m",
            "\u001b[0;31mAttributeError\u001b[0m                            Traceback (most recent call last)",
            "\u001b[0;32m<ipython-input-37-b61c97d095cf>\u001b[0m in \u001b[0;36m<module>\u001b[0;34m()\u001b[0m\n\u001b[1;32m      1\u001b[0m \u001b[0murl\u001b[0m \u001b[0;34m=\u001b[0m \u001b[0;34m'http://v.media.daum.net/v/20170611192209012?rcmd=r'\u001b[0m\u001b[0;34m\u001b[0m\u001b[0;34m\u001b[0m\u001b[0m\n\u001b[0;32m----> 2\u001b[0;31m \u001b[0mtextrank\u001b[0m \u001b[0;34m=\u001b[0m \u001b[0mTextRank\u001b[0m\u001b[0;34m(\u001b[0m\u001b[0murl\u001b[0m\u001b[0;34m)\u001b[0m\u001b[0;34m\u001b[0m\u001b[0;34m\u001b[0m\u001b[0m\n\u001b[0m\u001b[1;32m      3\u001b[0m \u001b[0;34m\u001b[0m\u001b[0m\n\u001b[1;32m      4\u001b[0m \u001b[0;32mfor\u001b[0m \u001b[0mrow\u001b[0m \u001b[0;32min\u001b[0m \u001b[0mtextrank\u001b[0m\u001b[0;34m.\u001b[0m\u001b[0msummarize\u001b[0m\u001b[0;34m(\u001b[0m\u001b[0;36m3\u001b[0m\u001b[0;34m)\u001b[0m\u001b[0;34m:\u001b[0m\u001b[0;34m\u001b[0m\u001b[0;34m\u001b[0m\u001b[0m\n\u001b[1;32m      5\u001b[0m   \u001b[0mprint\u001b[0m\u001b[0;34m(\u001b[0m\u001b[0mrow\u001b[0m\u001b[0;34m)\u001b[0m\u001b[0;34m\u001b[0m\u001b[0;34m\u001b[0m\u001b[0m\n",
            "\u001b[0;32m<ipython-input-10-65bfbe88a35f>\u001b[0m in \u001b[0;36m__init__\u001b[0;34m(self, text)\u001b[0m\n\u001b[1;32m     12\u001b[0m \u001b[0;34m\u001b[0m\u001b[0m\n\u001b[1;32m     13\u001b[0m     \u001b[0mself\u001b[0m\u001b[0;34m.\u001b[0m\u001b[0mgraph_matrix\u001b[0m \u001b[0;34m=\u001b[0m \u001b[0mGraphMatrix\u001b[0m\u001b[0;34m(\u001b[0m\u001b[0;34m)\u001b[0m\u001b[0;34m\u001b[0m\u001b[0;34m\u001b[0m\u001b[0m\n\u001b[0;32m---> 14\u001b[0;31m     \u001b[0mself\u001b[0m\u001b[0;34m.\u001b[0m\u001b[0msent_graph\u001b[0m \u001b[0;34m=\u001b[0m \u001b[0mself\u001b[0m\u001b[0;34m.\u001b[0m\u001b[0mgraph_matrix\u001b[0m\u001b[0;34m.\u001b[0m\u001b[0mbuild_sent_graph\u001b[0m\u001b[0;34m(\u001b[0m\u001b[0mself\u001b[0m\u001b[0;34m.\u001b[0m\u001b[0mnouns\u001b[0m\u001b[0;34m)\u001b[0m\u001b[0;34m\u001b[0m\u001b[0;34m\u001b[0m\u001b[0m\n\u001b[0m\u001b[1;32m     15\u001b[0m     \u001b[0mself\u001b[0m\u001b[0;34m.\u001b[0m\u001b[0mwords_graph\u001b[0m\u001b[0;34m,\u001b[0m \u001b[0mself\u001b[0m\u001b[0;34m.\u001b[0m\u001b[0midx2word\u001b[0m \u001b[0;34m=\u001b[0m \u001b[0mself\u001b[0m\u001b[0;34m.\u001b[0m\u001b[0mgraph_matrix\u001b[0m\u001b[0;34m.\u001b[0m\u001b[0mbuild_words_graph\u001b[0m\u001b[0;34m(\u001b[0m\u001b[0mself\u001b[0m\u001b[0;34m.\u001b[0m\u001b[0mnouns\u001b[0m\u001b[0;34m)\u001b[0m\u001b[0;34m\u001b[0m\u001b[0;34m\u001b[0m\u001b[0m\n\u001b[1;32m     16\u001b[0m \u001b[0;34m\u001b[0m\u001b[0m\n",
            "\u001b[0;32m<ipython-input-36-d76e97886e27>\u001b[0m in \u001b[0;36mbuild_sent_graph\u001b[0;34m(self, nouns)\u001b[0m\n\u001b[1;32m      6\u001b[0m \u001b[0;34m\u001b[0m\u001b[0m\n\u001b[1;32m      7\u001b[0m   \u001b[0;32mdef\u001b[0m \u001b[0mbuild_sent_graph\u001b[0m\u001b[0;34m(\u001b[0m\u001b[0mself\u001b[0m\u001b[0;34m,\u001b[0m \u001b[0mnouns\u001b[0m\u001b[0;34m)\u001b[0m\u001b[0;34m:\u001b[0m\u001b[0;34m\u001b[0m\u001b[0;34m\u001b[0m\u001b[0m\n\u001b[0;32m----> 8\u001b[0;31m     \u001b[0mnouns_list\u001b[0m \u001b[0;34m=\u001b[0m \u001b[0mnouns\u001b[0m\u001b[0;34m.\u001b[0m\u001b[0mravel\u001b[0m\u001b[0;34m(\u001b[0m\u001b[0;34m)\u001b[0m\u001b[0;34m.\u001b[0m\u001b[0mtolist\u001b[0m\u001b[0;34m(\u001b[0m\u001b[0;34m)\u001b[0m\u001b[0;34m\u001b[0m\u001b[0;34m\u001b[0m\u001b[0m\n\u001b[0m\u001b[1;32m      9\u001b[0m     \u001b[0mtfidf_mat\u001b[0m \u001b[0;34m=\u001b[0m \u001b[0mself\u001b[0m\u001b[0;34m.\u001b[0m\u001b[0mtfidf\u001b[0m\u001b[0;34m.\u001b[0m\u001b[0mfit_transform\u001b[0m\u001b[0;34m(\u001b[0m\u001b[0mnouns_list\u001b[0m\u001b[0;34m)\u001b[0m\u001b[0;34m\u001b[0m\u001b[0;34m\u001b[0m\u001b[0m\n\u001b[1;32m     10\u001b[0m     \u001b[0mself\u001b[0m\u001b[0;34m.\u001b[0m\u001b[0mgraph_nouns\u001b[0m \u001b[0;34m=\u001b[0m \u001b[0mnp\u001b[0m\u001b[0;34m.\u001b[0m\u001b[0mdot\u001b[0m\u001b[0;34m(\u001b[0m\u001b[0mtfidf_mat\u001b[0m\u001b[0;34m,\u001b[0m \u001b[0mtfidf_mat\u001b[0m\u001b[0;34m.\u001b[0m\u001b[0mT\u001b[0m\u001b[0;34m)\u001b[0m\u001b[0;34m\u001b[0m\u001b[0;34m\u001b[0m\u001b[0m\n",
            "\u001b[0;31mAttributeError\u001b[0m: 'list' object has no attribute 'ravel'"
          ]
        }
      ]
    },
    {
      "cell_type": "code",
      "metadata": {
        "id": "r4wt08p4pNeC"
      },
      "source": [
        ""
      ],
      "execution_count": null,
      "outputs": []
    }
  ]
}